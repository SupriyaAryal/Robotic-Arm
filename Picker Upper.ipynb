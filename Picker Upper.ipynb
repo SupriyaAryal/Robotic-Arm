{
 "cells": [
  {
   "cell_type": "code",
   "execution_count": 1,
   "metadata": {},
   "outputs": [],
   "source": [
    "%matplotlib inline\n",
    "import numpy as np\n",
    "import matplotlib.pyplot as plt\n",
    "import time"
   ]
  },
  {
   "cell_type": "code",
   "execution_count": 2,
   "metadata": {},
   "outputs": [],
   "source": [
    "# Only run this cell ONE time\n",
    "from pypot.creatures import PoppyErgoJr\n",
    "poppy = PoppyErgoJr(camera='dummy')"
   ]
  },
  {
   "cell_type": "code",
   "execution_count": 3,
   "metadata": {},
   "outputs": [],
   "source": [
    "for m in poppy.motors:\n",
    "    m.compliant = False\n",
    "    m.goal_position = 0"
   ]
  },
  {
   "cell_type": "code",
   "execution_count": null,
   "metadata": {},
   "outputs": [
    {
     "name": "stdout",
     "output_type": "stream",
     "text": [
      "Getting Ready to Pick...\n",
      "Press Enter When Ready\n",
      "Finshed Picking...\n"
     ]
    }
   ],
   "source": [
    "# move\n",
    "poppy.m1.goal_position = 0\n",
    "wave={'m1': 3.67, 'm2': 28.59, 'm3': 8.06, 'm4': -20.97, 'm5': -82.55, 'm6': -68.77}\n",
    "mixer={'m1': 4.25, 'm2': 26.25, 'm3': -39.15, 'm4': -1.32, 'm5': -15.69, 'm6':-68.77}\n",
    "move={'m1': 3.67, 'm2': 28.59, 'm3': 8.06, 'm4': 19.5, 'm5': -82.26, 'm6': 1.91}\n",
    "up={'m1': 4.25, 'm2': 33.87, 'm3': -11.0, 'm4': -1.32, 'm5': -17.74, 'm6':-68.77}\n",
    "open={'m1': 4.25, 'm2': 26.25, 'm3': -39.15, 'm4': -1.32, 'm5': -15.69, 'm6':14.81}\n",
    "cock_back = {'m1': 0, 'm2': 0, 'm3': 30, 'm4': 0, 'm5': 0, 'm6': 0}\n",
    "move_aside ={'m1': 0, 'm2': 0, 'm3': 0, 'm4': 0, 'm5': 0, 'm6': 0}\n",
    "lift_up ={'m1': 3.67, 'm2': 32.7, 'm3': 6.6, 'm4': -7.48, 'm5': -11.58, 'm6': -68}\n",
    "turn_around ={'m1': 3.67, 'm2': 37.68 , 'm3': 6.89, 'm4': 66.13, 'm5': -10.7, 'm6': -68}\n",
    "open_claw={'m1': 3.67, 'm2': 37.68 , 'm3': 6.89, 'm4': 66.13, 'm5': -10.7, 'm6': -15.1}\n",
    "\n",
    "print(\"Getting Ready to Pick...\")\n",
    "poppy.goto_position(wave, 1.0, wait=True)\n",
    "poppy.goto_position(move, 1.0, wait=True)\n",
    "poppy.goto_position(wave, 1.0, wait=True)\n",
    "poppy.goto_position(move, 1.0, wait=True)\n",
    "poppy.goto_position(wave, 1.0, wait=True)\n",
    "poppy.goto_position(move, 1.0, wait=True)\n",
    "time.sleep(2)\n",
    "for count in range(1):\n",
    "    poppy.goto_position(cock_back, 0.5, wait=True) # cock back slowly\n",
    "    input(\"Press Enter When Ready\")\n",
    "    poppy.goto_position(open, 1.0, wait=True)\n",
    "    time.sleep(1)\n",
    "    poppy.goto_position(mixer, 0.5, wait=True)\n",
    "    time.sleep(2) # need to use time sleep to allow the launch to complete\n",
    "    poppy.goto_position(up, 0.5, wait=True)\n",
    "    time.sleep(1) \n",
    "    poppy.goto_position(mixer, 0.5, wait=True)\n",
    "    time.sleep(1) \n",
    "    poppy.goto_position(up, 0.5, wait=True)\n",
    "    time.sleep(1) \n",
    "    poppy.goto_position(mixer, 0.5, wait=True)\n",
    "    time.sleep(1) \n",
    "    poppy.goto_position(up, 0.5, wait=True)\n",
    "    time.sleep(1) \n",
    "    poppy.goto_position(mixer, 0.5, wait=True)\n",
    "    time.sleep(1)\n",
    "    poppy.goto_position(up, 0.5, wait=True)\n",
    "    time.sleep(1) \n",
    "    poppy.goto_position(mixer, 0.5, wait=True)\n",
    "    time.sleep(1)\n",
    "    poppy.goto_position(lift_up, 0.5, wait=True)\n",
    "    time.sleep(2) \n",
    "    poppy.goto_position(turn_around, 1.0, wait=True)\n",
    "    time.sleep(2)\n",
    "    poppy.goto_position(open_claw, 1.0, wait=True)\n",
    "    time.sleep(2)\n",
    "    \n",
    "print(\"Finshed Picking...\")\n",
    "poppy.goto_position(wave, 1.0, wait=True)\n",
    "poppy.goto_position(move, 1.0, wait=True)\n",
    "poppy.goto_position(wave, 1.0, wait=True)\n",
    "poppy.goto_position(move, 1.0, wait=True)\n",
    "poppy.goto_position(wave, 1.0, wait=True)\n",
    "poppy.goto_position(move, 1.0, wait=True)\n"
   ]
  },
  {
   "cell_type": "markdown",
   "metadata": {},
   "source": [
    "## Motor Positions"
   ]
  },
  {
   "cell_type": "code",
   "execution_count": 5,
   "metadata": {},
   "outputs": [
    {
     "name": "stdout",
     "output_type": "stream",
     "text": [
      "You have 15 seconds let to move the motors.\n",
      "[<DxlMotor name=m1 id=1 pos=3.08>, <DxlMotor name=m2 id=2 pos=32.7>, <DxlMotor name=m3 id=3 pos=8.94>, <DxlMotor name=m4 id=4 pos=-10.41>, <DxlMotor name=m5 id=5 pos=-68.77>, <DxlMotor name=m6 id=6 pos=-46.19>]\n",
      "You have 14 seconds let to move the motors.\n",
      "[<DxlMotor name=m1 id=1 pos=2.2>, <DxlMotor name=m2 id=2 pos=103.08>, <DxlMotor name=m3 id=3 pos=9.24>, <DxlMotor name=m4 id=4 pos=-18.04>, <DxlMotor name=m5 id=5 pos=-78.74>, <DxlMotor name=m6 id=6 pos=-28.3>]\n",
      "You have 13 seconds let to move the motors.\n",
      "[<DxlMotor name=m1 id=1 pos=2.2>, <DxlMotor name=m2 id=2 pos=103.08>, <DxlMotor name=m3 id=3 pos=9.24>, <DxlMotor name=m4 id=4 pos=-18.04>, <DxlMotor name=m5 id=5 pos=-78.74>, <DxlMotor name=m6 id=6 pos=-28.3>]\n",
      "You have 12 seconds let to move the motors.\n",
      "[<DxlMotor name=m1 id=1 pos=2.2>, <DxlMotor name=m2 id=2 pos=103.08>, <DxlMotor name=m3 id=3 pos=9.24>, <DxlMotor name=m4 id=4 pos=-18.04>, <DxlMotor name=m5 id=5 pos=-78.74>, <DxlMotor name=m6 id=6 pos=-28.3>]\n",
      "You have 11 seconds let to move the motors.\n",
      "[<DxlMotor name=m1 id=1 pos=2.49>, <DxlMotor name=m2 id=2 pos=99.85>, <DxlMotor name=m3 id=3 pos=9.24>, <DxlMotor name=m4 id=4 pos=-17.16>, <DxlMotor name=m5 id=5 pos=-78.74>, <DxlMotor name=m6 id=6 pos=-28.3>]\n",
      "You have 10 seconds let to move the motors.\n",
      "[<DxlMotor name=m1 id=1 pos=0.44>, <DxlMotor name=m2 id=2 pos=78.45>, <DxlMotor name=m3 id=3 pos=9.24>, <DxlMotor name=m4 id=4 pos=-17.16>, <DxlMotor name=m5 id=5 pos=-78.74>, <DxlMotor name=m6 id=6 pos=-28.3>]\n",
      "You have 9 seconds let to move the motors.\n",
      "[<DxlMotor name=m1 id=1 pos=1.91>, <DxlMotor name=m2 id=2 pos=96.33>, <DxlMotor name=m3 id=3 pos=9.24>, <DxlMotor name=m4 id=4 pos=-17.16>, <DxlMotor name=m5 id=5 pos=-78.74>, <DxlMotor name=m6 id=6 pos=-28.3>]\n",
      "You have 8 seconds let to move the motors.\n",
      "[<DxlMotor name=m1 id=1 pos=2.2>, <DxlMotor name=m2 id=2 pos=98.97>, <DxlMotor name=m3 id=3 pos=9.24>, <DxlMotor name=m4 id=4 pos=-18.04>, <DxlMotor name=m5 id=5 pos=-78.74>, <DxlMotor name=m6 id=6 pos=-28.3>]\n",
      "You have 7 seconds let to move the motors.\n",
      "[<DxlMotor name=m1 id=1 pos=2.2>, <DxlMotor name=m2 id=2 pos=98.97>, <DxlMotor name=m3 id=3 pos=9.24>, <DxlMotor name=m4 id=4 pos=-18.04>, <DxlMotor name=m5 id=5 pos=-78.74>, <DxlMotor name=m6 id=6 pos=-28.3>]\n",
      "You have 6 seconds let to move the motors.\n",
      "[<DxlMotor name=m1 id=1 pos=2.2>, <DxlMotor name=m2 id=2 pos=98.97>, <DxlMotor name=m3 id=3 pos=9.24>, <DxlMotor name=m4 id=4 pos=-18.04>, <DxlMotor name=m5 id=5 pos=-78.74>, <DxlMotor name=m6 id=6 pos=-28.3>]\n",
      "You have 5 seconds let to move the motors.\n",
      "[<DxlMotor name=m1 id=1 pos=2.2>, <DxlMotor name=m2 id=2 pos=98.97>, <DxlMotor name=m3 id=3 pos=9.24>, <DxlMotor name=m4 id=4 pos=-18.04>, <DxlMotor name=m5 id=5 pos=-78.74>, <DxlMotor name=m6 id=6 pos=-28.3>]\n",
      "You have 4 seconds let to move the motors.\n",
      "[<DxlMotor name=m1 id=1 pos=2.2>, <DxlMotor name=m2 id=2 pos=98.97>, <DxlMotor name=m3 id=3 pos=9.24>, <DxlMotor name=m4 id=4 pos=-18.04>, <DxlMotor name=m5 id=5 pos=-78.74>, <DxlMotor name=m6 id=6 pos=-28.3>]\n",
      "You have 3 seconds let to move the motors.\n",
      "[<DxlMotor name=m1 id=1 pos=2.2>, <DxlMotor name=m2 id=2 pos=98.97>, <DxlMotor name=m3 id=3 pos=9.24>, <DxlMotor name=m4 id=4 pos=-18.04>, <DxlMotor name=m5 id=5 pos=-78.74>, <DxlMotor name=m6 id=6 pos=-28.3>]\n",
      "You have 2 seconds let to move the motors.\n",
      "[<DxlMotor name=m1 id=1 pos=2.2>, <DxlMotor name=m2 id=2 pos=98.97>, <DxlMotor name=m3 id=3 pos=9.24>, <DxlMotor name=m4 id=4 pos=-18.04>, <DxlMotor name=m5 id=5 pos=-78.74>, <DxlMotor name=m6 id=6 pos=-28.3>]\n",
      "You have 1 seconds let to move the motors.\n",
      "[<DxlMotor name=m1 id=1 pos=2.2>, <DxlMotor name=m2 id=2 pos=98.97>, <DxlMotor name=m3 id=3 pos=9.24>, <DxlMotor name=m4 id=4 pos=-18.04>, <DxlMotor name=m5 id=5 pos=-78.74>, <DxlMotor name=m6 id=6 pos=-28.3>]\n"
     ]
    }
   ],
   "source": [
    "for m in poppy.motors:\n",
    "    m.compliant = True\n",
    "seconds = 15\n",
    "for i in range(seconds):\n",
    "    print(f\"You have {seconds - i} seconds let to move the motors.\")\n",
    "    print(poppy.motors)\n",
    "    time.sleep(1)\n",
    "    \n",
    "for m in poppy.motors:\n",
    "    m.compliant = False\n"
   ]
  },
  {
   "cell_type": "code",
   "execution_count": null,
   "metadata": {},
   "outputs": [],
   "source": []
  }
 ],
 "metadata": {
  "kernelspec": {
   "display_name": "Python 3",
   "language": "python",
   "name": "python3"
  },
  "language_info": {
   "codemirror_mode": {
    "name": "ipython",
    "version": 3
   },
   "file_extension": ".py",
   "mimetype": "text/x-python",
   "name": "python",
   "nbconvert_exporter": "python",
   "pygments_lexer": "ipython3",
   "version": "3.7.3"
  }
 },
 "nbformat": 4,
 "nbformat_minor": 4
}
